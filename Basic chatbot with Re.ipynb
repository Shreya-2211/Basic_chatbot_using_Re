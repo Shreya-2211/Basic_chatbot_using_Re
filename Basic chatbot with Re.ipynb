{
 "cells": [
  {
   "cell_type": "markdown",
   "id": "ed2c80c6",
   "metadata": {},
   "source": [
    "### chatbot wit re"
   ]
  },
  {
   "cell_type": "markdown",
   "id": "8777b876",
   "metadata": {},
   "source": [
    "some information:\n",
    "   The re and spaCy libraries are both used in natural language processing (NLP) but serve different purposes.\n",
    "\n",
    "re is a built-in Python library that allows you to work with regular expressions, which are patterns that match specific sequences of text. re is often used for basic string manipulation, search, and replacing patterns in text. It is also helpful in finding and extracting specific patterns from large volumes of text.\n",
    "\n",
    "spaCy, on the other hand, is a third-party NLP library that provides a wide range of functionalities, including tokenization, part-of-speech tagging, named entity recognition, and dependency parsing. Unlike re, it is built specifically for processing natural language text data, and it uses statistical models and machine learning algorithms to analyze text data.\n",
    "\n",
    "Overall, while re can be used for basic text processing needs, spaCy is a more comprehensive NLP library that offers more advanced features for analyzing and processing natural language text data."
   ]
  },
  {
   "cell_type": "code",
   "execution_count": 1,
   "id": "2c1a9ead",
   "metadata": {},
   "outputs": [
    {
     "name": "stdout",
     "output_type": "stream",
     "text": [
      "You: hi\n",
      "Chatbot: Hello!\n",
      "You: what is your name?\n",
      "Chatbot: My name is Chatbot.\n",
      "You: how are you?\n",
      "Chatbot: I'm doing well, thank you.\n",
      "You: what kind of paint should I use?\n",
      "Chatbot: Sorry, I did not understand what you said.\n",
      "You: What kind of paint should I use\n",
      "Chatbot: Sorry, I did not understand what you said.\n",
      "You: What kind of paint should I use\\\n",
      "Chatbot: Sorry, I did not understand what you said.\n",
      "You: What kind of paint should I use\\?\n",
      "Chatbot: Sorry, I did not understand what you said.\n",
      "You: paint\n",
      "Chatbot: Sorry, I did not understand what you said.\n",
      "You: exit\n",
      "Chatbot: Goodbye!\n"
     ]
    }
   ],
   "source": [
    "##here I am using Re as this is a basic chatbot with questions defined as below and using spacy in this case would take longer time\n",
    "\n",
    "import re\n",
    "\n",
    "# Define some patterns and corresponding responses\n",
    "patterns = {\n",
    "    r'hi\\b': 'Hello!',\n",
    "    r'how are you\\b': \"I'm doing well, thank you.\",\n",
    "    r'what is your name?\\b': \"My name is Chatbot.\",\n",
    "    \n",
    "    \n",
    "    r'bye\\b': \"Goodbye!\"\n",
    "}\n",
    "\n",
    "# Main loop to chat with the user\n",
    "while True:\n",
    "    # Get input from the user\n",
    "    user_input = input('You: ').lower().strip()\n",
    "\n",
    "    # Check if user wants to exit\n",
    "    if user_input == 'exit':\n",
    "        print('Chatbot: Goodbye!')\n",
    "        break\n",
    "\n",
    "    # Check if any patterns match the user input\n",
    "    for pattern, response in patterns.items():\n",
    "        if re.search(pattern, user_input):\n",
    "            print('Chatbot:', response)\n",
    "            break\n",
    "    else:\n",
    "        print('Chatbot: Sorry, I did not understand what you said.')\n",
    "        \n"
   ]
  },
  {
   "cell_type": "code",
   "execution_count": 2,
   "id": "9ee5586f",
   "metadata": {},
   "outputs": [
    {
     "name": "stdout",
     "output_type": "stream",
     "text": [
      "Please ask a question about painting or type 'exit' to quit: how can I paint?\n",
      "I'm sorry, I don't understand that question. Please try again.\n",
      "Please ask a question about painting or type 'exit' to quit: What kind of paint should I use?\n",
      "The type of paint you should use depends on the surface you're painting and your preferred finish. For example, you can use acrylic paint on a variety of surfaces and it dries quickly, while oil paint takes longer to dry but offers a glossier finish.\n",
      "Please ask a question about painting or type 'exit' to quit: How do I clean my paintbrushes\n",
      "I'm sorry, I don't understand that question. Please try again.\n",
      "Please ask a question about painting or type 'exit' to quit: How many coats of paint do I need to apply?\n",
      "It depends on the color and intensity of the paint you're using and the surface you're painting. In general, however, two coats of paint are usually enough to get good coverage.\n",
      "Please ask a question about painting or type 'exit' to quit: How many coats of paint do I need to apply\n",
      "I'm sorry, I don't understand that question. Please try again.\n",
      "Please ask a question about painting or type 'exit' to quit: exit\n"
     ]
    }
   ],
   "source": [
    "import re\n",
    "\n",
    "# Define regular expressions to match question patterns\n",
    "paint_type_pattern = re.compile(r\"What kind of paint should I use\\?\")\n",
    "cleaning_pattern = re.compile(r\"How do I clean my paintbrushes\\?\")\n",
    "mess_prevention_pattern = re.compile(r\"How do I avoid making a mess while painting\\?\")\n",
    "preparation_pattern = re.compile(r\"Do I need to prime my surface before painting\\?\")\n",
    "coats_pattern = re.compile(r\"How many coats of paint do I need to apply\\?\")\n",
    "\n",
    "# Define function to return appropriate response based on input question\n",
    "def chatbot_responses(question):\n",
    "    if re.search(paint_type_pattern, question):\n",
    "        return \"The type of paint you should use depends on the surface you're painting and your preferred finish. For example, you can use acrylic paint on a variety of surfaces and it dries quickly, while oil paint takes longer to dry but offers a glossier finish.\"\n",
    "    elif re.search(cleaning_pattern, question):\n",
    "        return \"You should clean your paintbrushes with soap and warm water immediately after using them. For stubborn paint, you can try using a paintbrush cleaner.\"\n",
    "    elif re.search(mess_prevention_pattern, question):\n",
    "        return \"Cover your workspace with a drop cloth or old newspapers to catch any drips or spills. Also, wear clothes you don't mind getting dirty or wear a paint apron.\"\n",
    "    elif re.search(preparation_pattern, question):\n",
    "        return \"If you're painting a surface that hasn't been painted before, it's a good idea to use a primer to help the paint adhere better. However, if the surface has already been painted, you can probably skip the primer.\"\n",
    "    elif re.search(coats_pattern, question):\n",
    "        return \"It depends on the color and intensity of the paint you're using and the surface you're painting. In general, however, two coats of paint are usually enough to get good coverage.\"\n",
    "\n",
    "# Create a loop that repeatedly prompts for questions until user types \"exit\"\n",
    "while True:\n",
    "    user_input = input(\"Please ask a question about painting or type 'exit' to quit: \")\n",
    "    if user_input.lower() == \"exit\":\n",
    "        break\n",
    "    else:\n",
    "        response = chatbot_responses(user_input)\n",
    "        if response:\n",
    "            print(response)\n",
    "        else:\n",
    "            print(\"I'm sorry, I don't understand that question. Please try again.\")\n"
   ]
  },
  {
   "cell_type": "code",
   "execution_count": null,
   "id": "51a88e79",
   "metadata": {},
   "outputs": [],
   "source": []
  }
 ],
 "metadata": {
  "kernelspec": {
   "display_name": "Python 3 (ipykernel)",
   "language": "python",
   "name": "python3"
  },
  "language_info": {
   "codemirror_mode": {
    "name": "ipython",
    "version": 3
   },
   "file_extension": ".py",
   "mimetype": "text/x-python",
   "name": "python",
   "nbconvert_exporter": "python",
   "pygments_lexer": "ipython3",
   "version": "3.7.16"
  }
 },
 "nbformat": 4,
 "nbformat_minor": 5
}
